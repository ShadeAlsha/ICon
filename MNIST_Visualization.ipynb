{
 "cells": [
  {
   "cell_type": "code",
   "execution_count": 1,
   "id": "f93728f2-9868-45e8-af76-80800252b903",
   "metadata": {},
   "outputs": [],
   "source": [
    "import pytorch_lightning as pl\n",
    "from distributions import *\n",
    "from dataloaders import *\n",
    "from visualization import *\n",
    "from models import *"
   ]
  },
  {
   "cell_type": "code",
   "execution_count": 2,
   "id": "cc4ea184-df29-419b-8f95-ef310a899972",
   "metadata": {},
   "outputs": [],
   "source": [
    "import warnings\n",
    "import logging\n",
    "\n",
    "warnings.filterwarnings(\"ignore\", message=\".*ModelCheckpoint.*\")\n",
    "warnings.filterwarnings(\"ignore\", message=\".*val_dataloader.*\")\n",
    "warnings.filterwarnings(\"ignore\", message=\".*num_workers.*\")\n",
    "\n",
    "pl_logger = logging.getLogger(\"pytorch_lightning\")\n",
    "pl_logger.setLevel(logging.WARNING)  # or logging.ERROR\n"
   ]
  },
  {
   "cell_type": "markdown",
   "id": "13ac4e83-2037-4e84-8f9a-7969c37bd664",
   "metadata": {},
   "source": [
    "# MNIST Dataloader"
   ]
  },
  {
   "cell_type": "code",
   "execution_count": 3,
   "id": "174d14f2-8bb2-4e4e-a5bc-f34923274889",
   "metadata": {},
   "outputs": [],
   "source": [
    "num_classes = 10\n",
    "train_loader, test_loader = get_dataloaders(\n",
    "    dataset_name='mnist', batch_size = 5000, num_views=1,\n",
    "    contrastive = False, size=28, with_augmentation = False, num_workers = 0,\n",
    "    max_train_samples=5000 \n",
    ")"
   ]
  },
  {
   "cell_type": "code",
   "execution_count": 4,
   "id": "76e16690-5686-4911-9a4c-936c56ada01b",
   "metadata": {},
   "outputs": [],
   "source": [
    "test_loader = train_loader "
   ]
  },
  {
   "cell_type": "code",
   "execution_count": 5,
   "id": "12f8a0ab-2b50-41ee-9df0-8fc94b36a36e",
   "metadata": {},
   "outputs": [],
   "source": [
    "def run_model(model, plot_config, max_epochs= 60, check_val_every_n_epoch=60):\n",
    "    trainer = pl.Trainer(\n",
    "        max_epochs=max_epochs,\n",
    "        accelerator='gpu' if torch.cuda.is_available() else 'cpu',\n",
    "        devices=1,\n",
    "        check_val_every_n_epoch=check_val_every_n_epoch,\n",
    "        log_every_n_steps = 1,\n",
    "        callbacks=[PlotLogger(config=plot_config)]\n",
    "    )\n",
    "    trainer.fit(model, train_loader, test_loader)\n",
    "    return model"
   ]
  },
  {
   "cell_type": "code",
   "execution_count": 6,
   "id": "9a84880f-4916-41ae-81b9-0cbe148ad92c",
   "metadata": {},
   "outputs": [],
   "source": [
    "plot_config = PlotConfig(\n",
    "        show_plots=True,\n",
    "        selected_plots= ['neighborhood_dist', 'embeddings'])"
   ]
  },
  {
   "cell_type": "markdown",
   "id": "9360975c-bcda-45f0-af95-afa6dcbb64fe",
   "metadata": {},
   "source": [
    "# Dimensionality Reduction"
   ]
  },
  {
   "cell_type": "markdown",
   "id": "bf6573c8-730c-4d4c-8619-df587f44b01c",
   "metadata": {},
   "source": [
    "## Parametric SNE"
   ]
  },
  {
   "cell_type": "code",
   "execution_count": 7,
   "id": "d3441a3e-8e48-4d88-aee4-23ae97bda891",
   "metadata": {},
   "outputs": [
    {
     "data": {
      "application/vnd.jupyter.widget-view+json": {
       "model_id": "48017514640a453c95d23aa1bb5e1781",
       "version_major": 2,
       "version_minor": 0
      },
      "text/plain": [
       "Sanity Checking: |                                        | 0/? [00:00<?, ?it/s]"
      ]
     },
     "metadata": {},
     "output_type": "display_data"
    },
    {
     "data": {
      "application/vnd.jupyter.widget-view+json": {
       "model_id": "a6d109940e8f40f8a3dcf42646ac26c6",
       "version_major": 2,
       "version_minor": 0
      },
      "text/plain": [
       "VBox(children=(HBox(children=(Play(value=0, description='Play', interval=1000, max=0), IntSlider(value=0, desc…"
      ]
     },
     "metadata": {},
     "output_type": "display_data"
    },
    {
     "data": {
      "application/vnd.jupyter.widget-view+json": {
       "model_id": "fef0b3d3dead49568a8f2423c6079499",
       "version_major": 2,
       "version_minor": 0
      },
      "text/plain": [
       "Training: |                                               | 0/? [00:00<?, ?it/s]"
      ]
     },
     "metadata": {},
     "output_type": "display_data"
    },
    {
     "data": {
      "application/vnd.jupyter.widget-view+json": {
       "model_id": "d12b8b0e9032417bb9398a653dd95a79",
       "version_major": 2,
       "version_minor": 0
      },
      "text/plain": [
       "Validation: |                                             | 0/? [00:00<?, ?it/s]"
      ]
     },
     "metadata": {},
     "output_type": "display_data"
    },
    {
     "data": {
      "application/vnd.jupyter.widget-view+json": {
       "model_id": "38f215c87b084987a21d07f5bc0d08eb",
       "version_major": 2,
       "version_minor": 0
      },
      "text/plain": [
       "Validation: |                                             | 0/? [00:00<?, ?it/s]"
      ]
     },
     "metadata": {},
     "output_type": "display_data"
    },
    {
     "data": {
      "application/vnd.jupyter.widget-view+json": {
       "model_id": "ca2f3ec4b0c940e8a7b7fabb7c6f0274",
       "version_major": 2,
       "version_minor": 0
      },
      "text/plain": [
       "Validation: |                                             | 0/? [00:00<?, ?it/s]"
      ]
     },
     "metadata": {},
     "output_type": "display_data"
    },
    {
     "data": {
      "application/vnd.jupyter.widget-view+json": {
       "model_id": "ca895a1a44ca47aeab0989bd352446e4",
       "version_major": 2,
       "version_minor": 0
      },
      "text/plain": [
       "Validation: |                                             | 0/? [00:00<?, ?it/s]"
      ]
     },
     "metadata": {},
     "output_type": "display_data"
    },
    {
     "data": {
      "application/vnd.jupyter.widget-view+json": {
       "model_id": "054d21ac0a0740e9b8c29729a3db8d62",
       "version_major": 2,
       "version_minor": 0
      },
      "text/plain": [
       "Validation: |                                             | 0/? [00:00<?, ?it/s]"
      ]
     },
     "metadata": {},
     "output_type": "display_data"
    },
    {
     "data": {
      "application/vnd.jupyter.widget-view+json": {
       "model_id": "9196064d8e61496cb1b147b778b74e8e",
       "version_major": 2,
       "version_minor": 0
      },
      "text/plain": [
       "Validation: |                                             | 0/? [00:00<?, ?it/s]"
      ]
     },
     "metadata": {},
     "output_type": "display_data"
    },
    {
     "data": {
      "application/vnd.jupyter.widget-view+json": {
       "model_id": "2fd473acf20944b683e652a8c537f9f5",
       "version_major": 2,
       "version_minor": 0
      },
      "text/plain": [
       "Validation: |                                             | 0/? [00:00<?, ?it/s]"
      ]
     },
     "metadata": {},
     "output_type": "display_data"
    },
    {
     "data": {
      "application/vnd.jupyter.widget-view+json": {
       "model_id": "4fcbc6c7bcf042b482ea9f518f3ee4ab",
       "version_major": 2,
       "version_minor": 0
      },
      "text/plain": [
       "Validation: |                                             | 0/? [00:00<?, ?it/s]"
      ]
     },
     "metadata": {},
     "output_type": "display_data"
    },
    {
     "data": {
      "application/vnd.jupyter.widget-view+json": {
       "model_id": "52cdefb3f07640d8bc67f6fe6125e99b",
       "version_major": 2,
       "version_minor": 0
      },
      "text/plain": [
       "Validation: |                                             | 0/? [00:00<?, ?it/s]"
      ]
     },
     "metadata": {},
     "output_type": "display_data"
    },
    {
     "data": {
      "application/vnd.jupyter.widget-view+json": {
       "model_id": "0862ab9c254e451f93d0d7143f1f9b1c",
       "version_major": 2,
       "version_minor": 0
      },
      "text/plain": [
       "Validation: |                                             | 0/? [00:00<?, ?it/s]"
      ]
     },
     "metadata": {},
     "output_type": "display_data"
    },
    {
     "data": {
      "application/vnd.jupyter.widget-view+json": {
       "model_id": "cd07d9a5029441e8a29464ea0831ae5c",
       "version_major": 2,
       "version_minor": 0
      },
      "text/plain": [
       "Validation: |                                             | 0/? [00:00<?, ?it/s]"
      ]
     },
     "metadata": {},
     "output_type": "display_data"
    },
    {
     "data": {
      "application/vnd.jupyter.widget-view+json": {
       "model_id": "40bdfb42bc3141b7941272ee3ab3cdee",
       "version_major": 2,
       "version_minor": 0
      },
      "text/plain": [
       "Validation: |                                             | 0/? [00:00<?, ?it/s]"
      ]
     },
     "metadata": {},
     "output_type": "display_data"
    },
    {
     "data": {
      "application/vnd.jupyter.widget-view+json": {
       "model_id": "14ef67db05924de78f77f50445885fea",
       "version_major": 2,
       "version_minor": 0
      },
      "text/plain": [
       "Validation: |                                             | 0/? [00:00<?, ?it/s]"
      ]
     },
     "metadata": {},
     "output_type": "display_data"
    },
    {
     "data": {
      "application/vnd.jupyter.widget-view+json": {
       "model_id": "d057c68286394da2ba681d879cbaf244",
       "version_major": 2,
       "version_minor": 0
      },
      "text/plain": [
       "Validation: |                                             | 0/? [00:00<?, ?it/s]"
      ]
     },
     "metadata": {},
     "output_type": "display_data"
    },
    {
     "data": {
      "application/vnd.jupyter.widget-view+json": {
       "model_id": "1467223aff424286a2f3d2fe5f34d082",
       "version_major": 2,
       "version_minor": 0
      },
      "text/plain": [
       "Validation: |                                             | 0/? [00:00<?, ?it/s]"
      ]
     },
     "metadata": {},
     "output_type": "display_data"
    },
    {
     "data": {
      "application/vnd.jupyter.widget-view+json": {
       "model_id": "7bf24be192664e0a96b3614f50683958",
       "version_major": 2,
       "version_minor": 0
      },
      "text/plain": [
       "Validation: |                                             | 0/? [00:00<?, ?it/s]"
      ]
     },
     "metadata": {},
     "output_type": "display_data"
    },
    {
     "data": {
      "application/vnd.jupyter.widget-view+json": {
       "model_id": "2405827f94944bc3b9442251553e05dc",
       "version_major": 2,
       "version_minor": 0
      },
      "text/plain": [
       "Validation: |                                             | 0/? [00:00<?, ?it/s]"
      ]
     },
     "metadata": {},
     "output_type": "display_data"
    },
    {
     "data": {
      "application/vnd.jupyter.widget-view+json": {
       "model_id": "cf093d0fff0e45e0a7b13fe78c40144c",
       "version_major": 2,
       "version_minor": 0
      },
      "text/plain": [
       "Validation: |                                             | 0/? [00:00<?, ?it/s]"
      ]
     },
     "metadata": {},
     "output_type": "display_data"
    },
    {
     "data": {
      "application/vnd.jupyter.widget-view+json": {
       "model_id": "b6ec6ff0f0004b1ebad87acd105b4239",
       "version_major": 2,
       "version_minor": 0
      },
      "text/plain": [
       "Validation: |                                             | 0/? [00:00<?, ?it/s]"
      ]
     },
     "metadata": {},
     "output_type": "display_data"
    },
    {
     "data": {
      "application/vnd.jupyter.widget-view+json": {
       "model_id": "592d4c29058946b5a10f45bc21e3b0c9",
       "version_major": 2,
       "version_minor": 0
      },
      "text/plain": [
       "Validation: |                                             | 0/? [00:00<?, ?it/s]"
      ]
     },
     "metadata": {},
     "output_type": "display_data"
    }
   ],
   "source": [
    "SNE_config = IConConfig(mapper = SimpleCNN(output_dim=2, input_key= \"image\", output_key= \"embeddings\"),\n",
    "                        supervisory_distribution = Gaussian(sigma = 5, input_key= \"image\", mask_diagonal = True),\n",
    "                        learned_distribution = Gaussian(sigma = 1, input_key= \"embeddings\", mask_diagonal = True),\n",
    "                        lr= 1e-3,\n",
    "                        )\n",
    "SNE_model = IConModel(SNE_config)\n",
    "SNE_model = run_model(SNE_model, plot_config, max_epochs= 20, check_val_every_n_epoch=1)"
   ]
  },
  {
   "cell_type": "markdown",
   "id": "1db091fa-84a0-4f5e-885a-3ff28de3aace",
   "metadata": {},
   "source": [
    "## Parametric t-SNE"
   ]
  },
  {
   "cell_type": "code",
   "execution_count": null,
   "id": "087db03d-520c-439d-8316-b7875cd9a0c8",
   "metadata": {
    "scrolled": true
   },
   "outputs": [],
   "source": [
    "tSNE_config = IConConfig(mapper = SimpleCNN(output_dim=2, input_key= \"image\", output_key= \"embeddings\"),\n",
    "                         supervisory_distribution = Gaussian(sigma = 5, input_key= \"image\", mask_diagonal = True),\n",
    "                         learned_distribution = StudentT(gamma = 1, input_key= \"embeddings\", mask_diagonal = True),\n",
    "                         lr= 5e-3,\n",
    "                        )\n",
    "tSNE_model = IConModel(tSNE_config)\n",
    "tSNE_model = run_model(tSNE_model, plot_config)"
   ]
  },
  {
   "cell_type": "markdown",
   "id": "287f0d6b-5ea4-47f9-b408-ba14a884e138",
   "metadata": {},
   "source": [
    "## Parametric t-SNE with K-Nearest Neighbors"
   ]
  },
  {
   "cell_type": "code",
   "execution_count": 14,
   "id": "e76b0b96-2e2c-4046-9980-10d2578f28a3",
   "metadata": {},
   "outputs": [
    {
     "data": {
      "application/vnd.jupyter.widget-view+json": {
       "model_id": "ce0c72525c6c43cb81e428d43cc5b738",
       "version_major": 2,
       "version_minor": 0
      },
      "text/plain": [
       "Sanity Checking: |                                        | 0/? [00:00<?, ?it/s]"
      ]
     },
     "metadata": {},
     "output_type": "display_data"
    },
    {
     "data": {
      "application/vnd.jupyter.widget-view+json": {
       "model_id": "c10a0e0172e84df7bc88e11154b47b1b",
       "version_major": 2,
       "version_minor": 0
      },
      "text/plain": [
       "VBox(children=(HBox(children=(Play(value=0, description='Play', interval=1000, max=0), IntSlider(value=0, desc…"
      ]
     },
     "metadata": {},
     "output_type": "display_data"
    },
    {
     "data": {
      "application/vnd.jupyter.widget-view+json": {
       "model_id": "6708accb9ec44723aa89689485a31356",
       "version_major": 2,
       "version_minor": 0
      },
      "text/plain": [
       "Training: |                                               | 0/? [00:00<?, ?it/s]"
      ]
     },
     "metadata": {},
     "output_type": "display_data"
    },
    {
     "data": {
      "application/vnd.jupyter.widget-view+json": {
       "model_id": "e581b048d6e648698f88809ac95ffb31",
       "version_major": 2,
       "version_minor": 0
      },
      "text/plain": [
       "Validation: |                                             | 0/? [00:00<?, ?it/s]"
      ]
     },
     "metadata": {},
     "output_type": "display_data"
    },
    {
     "data": {
      "application/vnd.jupyter.widget-view+json": {
       "model_id": "38d5774e419a42c48cc2227f8f283912",
       "version_major": 2,
       "version_minor": 0
      },
      "text/plain": [
       "Validation: |                                             | 0/? [00:00<?, ?it/s]"
      ]
     },
     "metadata": {},
     "output_type": "display_data"
    },
    {
     "data": {
      "application/vnd.jupyter.widget-view+json": {
       "model_id": "35d7d2f655f04fe2b54f5bd8f74d1a05",
       "version_major": 2,
       "version_minor": 0
      },
      "text/plain": [
       "Validation: |                                             | 0/? [00:00<?, ?it/s]"
      ]
     },
     "metadata": {},
     "output_type": "display_data"
    },
    {
     "data": {
      "application/vnd.jupyter.widget-view+json": {
       "model_id": "012adf2f3ca342d2aaca7c8e0026d858",
       "version_major": 2,
       "version_minor": 0
      },
      "text/plain": [
       "Validation: |                                             | 0/? [00:00<?, ?it/s]"
      ]
     },
     "metadata": {},
     "output_type": "display_data"
    },
    {
     "data": {
      "application/vnd.jupyter.widget-view+json": {
       "model_id": "37048e7045a4465eb89571aaf2a00692",
       "version_major": 2,
       "version_minor": 0
      },
      "text/plain": [
       "Validation: |                                             | 0/? [00:00<?, ?it/s]"
      ]
     },
     "metadata": {},
     "output_type": "display_data"
    },
    {
     "data": {
      "application/vnd.jupyter.widget-view+json": {
       "model_id": "c16e7405d7344951b52ed0f041ecf1b1",
       "version_major": 2,
       "version_minor": 0
      },
      "text/plain": [
       "Validation: |                                             | 0/? [00:00<?, ?it/s]"
      ]
     },
     "metadata": {},
     "output_type": "display_data"
    }
   ],
   "source": [
    "#tSNE_config = IConConfig(mapper = SimpleCNN(output_dim=2, input_key= \"image\", output_key= \"embeddings\"),\n",
    "#                         supervisory_distribution = UniformKNN(k = 30, input_key= \"image\", mask_diagonal = True),\n",
    "#                         learned_distribution = StudentT(gamma = 1, input_key= \"embeddings\", mask_diagonal = True),\n",
    "#                         lr= 1e-2,\n",
    "#                        )\n",
    "#tSNE_model = IConModel(tSNE_config)\n",
    "tSNE_model.lr = 1e-3\n",
    "tSNE_model = run_model(tSNE_model, plot_config)"
   ]
  },
  {
   "cell_type": "markdown",
   "id": "726b9bbe-da59-45eb-84ac-dcb4fa6b8f0a",
   "metadata": {},
   "source": [
    "## Non-Parametric SNE"
   ]
  },
  {
   "cell_type": "code",
   "execution_count": 15,
   "id": "fb13acc0-99ba-43b9-810b-706ac33a082e",
   "metadata": {},
   "outputs": [],
   "source": [
    "from sklearn.decomposition import PCA\n",
    "features = gather_batch_tensors(train_loader, \"image\", \"index\", 5000)\n",
    "pca = PCA(n_components=2)\n",
    "components = pca.fit_transform(features.cpu().numpy())\n",
    "init_weights = torch.tensor(components, dtype=torch.float32)\n"
   ]
  },
  {
   "cell_type": "code",
   "execution_count": 16,
   "id": "efb87afd-2f61-47bc-b524-8a7fda9aa655",
   "metadata": {
    "scrolled": true
   },
   "outputs": [
    {
     "data": {
      "application/vnd.jupyter.widget-view+json": {
       "model_id": "719473c2bcc545dcbbc78ea57aa11f22",
       "version_major": 2,
       "version_minor": 0
      },
      "text/plain": [
       "Sanity Checking: |                                        | 0/? [00:00<?, ?it/s]"
      ]
     },
     "metadata": {},
     "output_type": "display_data"
    },
    {
     "data": {
      "application/vnd.jupyter.widget-view+json": {
       "model_id": "53abb4b8dc904678a61d584e6becd7b2",
       "version_major": 2,
       "version_minor": 0
      },
      "text/plain": [
       "VBox(children=(HBox(children=(Play(value=0, description='Play', interval=1000, max=0), IntSlider(value=0, desc…"
      ]
     },
     "metadata": {},
     "output_type": "display_data"
    },
    {
     "data": {
      "application/vnd.jupyter.widget-view+json": {
       "model_id": "89dc5ca5b7724bc883ce00b0fe37c40d",
       "version_major": 2,
       "version_minor": 0
      },
      "text/plain": [
       "Training: |                                               | 0/? [00:00<?, ?it/s]"
      ]
     },
     "metadata": {},
     "output_type": "display_data"
    },
    {
     "data": {
      "application/vnd.jupyter.widget-view+json": {
       "model_id": "8ab572caad834180baaf6a739f9bf326",
       "version_major": 2,
       "version_minor": 0
      },
      "text/plain": [
       "Validation: |                                             | 0/? [00:00<?, ?it/s]"
      ]
     },
     "metadata": {},
     "output_type": "display_data"
    },
    {
     "data": {
      "application/vnd.jupyter.widget-view+json": {
       "model_id": "67779b8991e44bc78cd53f44ccc3d340",
       "version_major": 2,
       "version_minor": 0
      },
      "text/plain": [
       "Validation: |                                             | 0/? [00:00<?, ?it/s]"
      ]
     },
     "metadata": {},
     "output_type": "display_data"
    },
    {
     "data": {
      "application/vnd.jupyter.widget-view+json": {
       "model_id": "06898e3dc4c8421686c403f99914255a",
       "version_major": 2,
       "version_minor": 0
      },
      "text/plain": [
       "Validation: |                                             | 0/? [00:00<?, ?it/s]"
      ]
     },
     "metadata": {},
     "output_type": "display_data"
    },
    {
     "data": {
      "application/vnd.jupyter.widget-view+json": {
       "model_id": "6ce3ad10676a46188e28afb0fd708781",
       "version_major": 2,
       "version_minor": 0
      },
      "text/plain": [
       "Validation: |                                             | 0/? [00:00<?, ?it/s]"
      ]
     },
     "metadata": {},
     "output_type": "display_data"
    },
    {
     "data": {
      "application/vnd.jupyter.widget-view+json": {
       "model_id": "8db2e58f49f04d70a13cc4956f837e14",
       "version_major": 2,
       "version_minor": 0
      },
      "text/plain": [
       "Validation: |                                             | 0/? [00:00<?, ?it/s]"
      ]
     },
     "metadata": {},
     "output_type": "display_data"
    },
    {
     "data": {
      "application/vnd.jupyter.widget-view+json": {
       "model_id": "fd7bcc3b11c44b6fa2bbd84237b0dc41",
       "version_major": 2,
       "version_minor": 0
      },
      "text/plain": [
       "Validation: |                                             | 0/? [00:00<?, ?it/s]"
      ]
     },
     "metadata": {},
     "output_type": "display_data"
    }
   ],
   "source": [
    "tSNE_config = IConConfig(mapper = LookUpTable(num_embeddings=5000, embedding_dim=2, \n",
    "                                              input_key =\"index\", output_key= \"embeddings\", \n",
    "                                              init_weights = init_weights),\n",
    "                         supervisory_distribution = UniformKNN(k = 100, mask_diagonal = True, input_key =\"image\"),\n",
    "                         learned_distribution = StudentT(gamma = 1, mask_diagonal = True, input_key =\"embeddings\"),\n",
    "                         lr=1,\n",
    "                        )\n",
    "tSNE_model = IConModel(tSNE_config)\n",
    "tSNE_model = run_model(tSNE_model, plot_config)"
   ]
  },
  {
   "cell_type": "markdown",
   "id": "edb419a0-55a5-4534-ae63-06bc42c89aff",
   "metadata": {},
   "source": [
    "# Contrastive Methods"
   ]
  },
  {
   "cell_type": "markdown",
   "id": "b30b099e-57ed-4397-8c8b-b45b1f033ea1",
   "metadata": {},
   "source": [
    "## Supervised Contrastive Learning"
   ]
  },
  {
   "cell_type": "code",
   "execution_count": 17,
   "id": "ac5ca47c-330a-4428-a854-63ceb9cb5501",
   "metadata": {},
   "outputs": [
    {
     "data": {
      "application/vnd.jupyter.widget-view+json": {
       "model_id": "f0aeae0d7f1545c48033dbc483a8ddd4",
       "version_major": 2,
       "version_minor": 0
      },
      "text/plain": [
       "Sanity Checking: |                                        | 0/? [00:00<?, ?it/s]"
      ]
     },
     "metadata": {},
     "output_type": "display_data"
    },
    {
     "data": {
      "application/vnd.jupyter.widget-view+json": {
       "model_id": "992908e91fc84d29b8e030eb345683a1",
       "version_major": 2,
       "version_minor": 0
      },
      "text/plain": [
       "VBox(children=(HBox(children=(Play(value=0, description='Play', interval=1000, max=0), IntSlider(value=0, desc…"
      ]
     },
     "metadata": {},
     "output_type": "display_data"
    },
    {
     "data": {
      "application/vnd.jupyter.widget-view+json": {
       "model_id": "dfb9322287a5470bab06c241436c9ba5",
       "version_major": 2,
       "version_minor": 0
      },
      "text/plain": [
       "Training: |                                               | 0/? [00:00<?, ?it/s]"
      ]
     },
     "metadata": {},
     "output_type": "display_data"
    },
    {
     "data": {
      "application/vnd.jupyter.widget-view+json": {
       "model_id": "57be705a71e1458494165b175d66dfce",
       "version_major": 2,
       "version_minor": 0
      },
      "text/plain": [
       "Validation: |                                             | 0/? [00:00<?, ?it/s]"
      ]
     },
     "metadata": {},
     "output_type": "display_data"
    },
    {
     "data": {
      "application/vnd.jupyter.widget-view+json": {
       "model_id": "394b8b0f0d894ea394127b839769e881",
       "version_major": 2,
       "version_minor": 0
      },
      "text/plain": [
       "Validation: |                                             | 0/? [00:00<?, ?it/s]"
      ]
     },
     "metadata": {},
     "output_type": "display_data"
    },
    {
     "data": {
      "application/vnd.jupyter.widget-view+json": {
       "model_id": "00ff05cc204f4ca8bb7776c2e4a92e83",
       "version_major": 2,
       "version_minor": 0
      },
      "text/plain": [
       "Validation: |                                             | 0/? [00:00<?, ?it/s]"
      ]
     },
     "metadata": {},
     "output_type": "display_data"
    },
    {
     "data": {
      "application/vnd.jupyter.widget-view+json": {
       "model_id": "51aa64cede7a4e3883ee4a384cf63ecf",
       "version_major": 2,
       "version_minor": 0
      },
      "text/plain": [
       "Validation: |                                             | 0/? [00:00<?, ?it/s]"
      ]
     },
     "metadata": {},
     "output_type": "display_data"
    },
    {
     "data": {
      "application/vnd.jupyter.widget-view+json": {
       "model_id": "39f3ae34dcd44625ba1698ea0d2368b8",
       "version_major": 2,
       "version_minor": 0
      },
      "text/plain": [
       "Validation: |                                             | 0/? [00:00<?, ?it/s]"
      ]
     },
     "metadata": {},
     "output_type": "display_data"
    },
    {
     "data": {
      "application/vnd.jupyter.widget-view+json": {
       "model_id": "8793f8ea744e4a75b83c22979a1141d5",
       "version_major": 2,
       "version_minor": 0
      },
      "text/plain": [
       "Validation: |                                             | 0/? [00:00<?, ?it/s]"
      ]
     },
     "metadata": {},
     "output_type": "display_data"
    }
   ],
   "source": [
    "supCon_config = IConConfig(mapper = SimpleCNN(output_dim=3, unit_sphere = True, input_key= \"image\", output_key= \"embeddings\"),\n",
    "                           supervisory_distribution = Label(input_key= \"label\"),\n",
    "                           learned_distribution = Gaussian(sigma = 0.5, input_key = \"embeddings\"),\n",
    "                           accuracy_mode = 'regular',\n",
    "                           num_classes = num_classes,\n",
    "                           linear_probe = True,\n",
    "                           lr = 1e-3,\n",
    "                        )\n",
    "model = IConModel(supCon_config)\n",
    "model = run_model(model, plot_config)"
   ]
  },
  {
   "cell_type": "code",
   "execution_count": null,
   "id": "1bccb17d-48aa-4111-82eb-4db02fc398b6",
   "metadata": {},
   "outputs": [],
   "source": []
  },
  {
   "cell_type": "code",
   "execution_count": null,
   "id": "ea6fbf27-4ad4-4a76-baaf-a3d244fe22ba",
   "metadata": {},
   "outputs": [],
   "source": []
  },
  {
   "cell_type": "code",
   "execution_count": null,
   "id": "65249afe-818e-4cc8-a1d9-4e14008ef85f",
   "metadata": {},
   "outputs": [],
   "source": []
  },
  {
   "cell_type": "code",
   "execution_count": null,
   "id": "8f62a78d-b6f5-4988-b116-aa786d5b370b",
   "metadata": {},
   "outputs": [],
   "source": []
  },
  {
   "cell_type": "code",
   "execution_count": 19,
   "id": "aebc991d-4d0b-4b28-bf5d-0938cb323159",
   "metadata": {},
   "outputs": [
    {
     "data": {
      "application/vnd.jupyter.widget-view+json": {
       "model_id": "6cfef4d9208e45d585d61a29077e6abb",
       "version_major": 2,
       "version_minor": 0
      },
      "text/plain": [
       "Sanity Checking: |                                        | 0/? [00:00<?, ?it/s]"
      ]
     },
     "metadata": {},
     "output_type": "display_data"
    },
    {
     "data": {
      "application/vnd.jupyter.widget-view+json": {
       "model_id": "3f5ab4e0fdeb461b83710979943df5bc",
       "version_major": 2,
       "version_minor": 0
      },
      "text/plain": [
       "VBox(children=(HBox(children=(Play(value=0, description='Play', interval=1000, max=0), IntSlider(value=0, desc…"
      ]
     },
     "metadata": {},
     "output_type": "display_data"
    },
    {
     "data": {
      "application/vnd.jupyter.widget-view+json": {
       "model_id": "b9274e7fd73a438f8d5ea340bf255700",
       "version_major": 2,
       "version_minor": 0
      },
      "text/plain": [
       "Training: |                                               | 0/? [00:00<?, ?it/s]"
      ]
     },
     "metadata": {},
     "output_type": "display_data"
    },
    {
     "data": {
      "application/vnd.jupyter.widget-view+json": {
       "model_id": "01a9da2213804aa5a8d2499d74970430",
       "version_major": 2,
       "version_minor": 0
      },
      "text/plain": [
       "Validation: |                                             | 0/? [00:00<?, ?it/s]"
      ]
     },
     "metadata": {},
     "output_type": "display_data"
    },
    {
     "data": {
      "application/vnd.jupyter.widget-view+json": {
       "model_id": "a6c5231e434f4b34afcc8dd3883c6fcf",
       "version_major": 2,
       "version_minor": 0
      },
      "text/plain": [
       "Validation: |                                             | 0/? [00:00<?, ?it/s]"
      ]
     },
     "metadata": {},
     "output_type": "display_data"
    },
    {
     "data": {
      "application/vnd.jupyter.widget-view+json": {
       "model_id": "590cf289785443e9973c9f13484c76d5",
       "version_major": 2,
       "version_minor": 0
      },
      "text/plain": [
       "Validation: |                                             | 0/? [00:00<?, ?it/s]"
      ]
     },
     "metadata": {},
     "output_type": "display_data"
    },
    {
     "data": {
      "application/vnd.jupyter.widget-view+json": {
       "model_id": "c666539a40474eaaa97bb1e615977052",
       "version_major": 2,
       "version_minor": 0
      },
      "text/plain": [
       "Validation: |                                             | 0/? [00:00<?, ?it/s]"
      ]
     },
     "metadata": {},
     "output_type": "display_data"
    },
    {
     "data": {
      "application/vnd.jupyter.widget-view+json": {
       "model_id": "178970cd74ed44209b2130a80fb707d4",
       "version_major": 2,
       "version_minor": 0
      },
      "text/plain": [
       "Validation: |                                             | 0/? [00:00<?, ?it/s]"
      ]
     },
     "metadata": {},
     "output_type": "display_data"
    },
    {
     "data": {
      "application/vnd.jupyter.widget-view+json": {
       "model_id": "8eaee7b2ae674d46a78ac83692bf4f68",
       "version_major": 2,
       "version_minor": 0
      },
      "text/plain": [
       "Validation: |                                             | 0/? [00:00<?, ?it/s]"
      ]
     },
     "metadata": {},
     "output_type": "display_data"
    }
   ],
   "source": [
    "model = run_model(model, plot_config)"
   ]
  },
  {
   "cell_type": "markdown",
   "id": "77464486-b809-4ae3-acef-2e9cd42c7403",
   "metadata": {},
   "source": [
    "## SimCLR"
   ]
  },
  {
   "cell_type": "code",
   "execution_count": 20,
   "id": "1e91c186-fc5e-4a7a-91ee-d9353105d22a",
   "metadata": {},
   "outputs": [],
   "source": [
    "train_loader, test_loader = get_dataloaders(\n",
    "    dataset_name='mnist', batch_size = 10000, num_views=2,\n",
    "    contrastive = True, size=28, with_augmentation = True, num_workers = 0, max_train_samples=10000,\n",
    ")"
   ]
  },
  {
   "cell_type": "code",
   "execution_count": 21,
   "id": "cfe69ece-c330-450f-9a4d-4f570c3b987d",
   "metadata": {},
   "outputs": [],
   "source": [
    "test_loader = train_loader"
   ]
  },
  {
   "cell_type": "code",
   "execution_count": 22,
   "id": "95fe33bd-69b4-4aca-ba7b-0b635881b8a9",
   "metadata": {},
   "outputs": [
    {
     "data": {
      "application/vnd.jupyter.widget-view+json": {
       "model_id": "d11e365731054ab79d2e1266145ccc8c",
       "version_major": 2,
       "version_minor": 0
      },
      "text/plain": [
       "Sanity Checking: |                                        | 0/? [00:00<?, ?it/s]"
      ]
     },
     "metadata": {},
     "output_type": "display_data"
    },
    {
     "data": {
      "application/vnd.jupyter.widget-view+json": {
       "model_id": "c563b7d240f8490cb92df542d1dc05af",
       "version_major": 2,
       "version_minor": 0
      },
      "text/plain": [
       "VBox(children=(HBox(children=(Play(value=0, description='Play', interval=1000, max=0), IntSlider(value=0, desc…"
      ]
     },
     "metadata": {},
     "output_type": "display_data"
    },
    {
     "data": {
      "application/vnd.jupyter.widget-view+json": {
       "model_id": "0b50ad5af9bf43b0a795c756641b82fc",
       "version_major": 2,
       "version_minor": 0
      },
      "text/plain": [
       "Training: |                                               | 0/? [00:00<?, ?it/s]"
      ]
     },
     "metadata": {},
     "output_type": "display_data"
    },
    {
     "name": "stderr",
     "output_type": "stream",
     "text": [
      "\n",
      "KeyboardInterrupt\n",
      "\n"
     ]
    }
   ],
   "source": [
    "supCon_config = IConConfig(mapper = SimpleCNN(output_dim=3, unit_sphere = True, input_key= [\"image\", \"image1\"], output_key= [\"embeddings\", \"embeddings1\"]),\n",
    "                           supervisory_distribution = Augmentation(block_size=1, input_key = \"index\"),\n",
    "                           learned_distribution = Gaussian(sigma = 0.5, input_key = \"embeddings\", input_key2 = \"embeddings1\", metric=\"dot\", mask_diagonal=True),\n",
    "                           accuracy_mode = 'regular',\n",
    "                           num_classes = num_classes,\n",
    "                           linear_probe = True,\n",
    "                           lr = 1e-3,\n",
    "                        )\n",
    "model = IConModel(supCon_config)\n",
    "model = run_model(model, plot_config,  max_epochs= 600, check_val_every_n_epoch=50)"
   ]
  },
  {
   "cell_type": "markdown",
   "id": "9f5c8077-54af-4a6e-a5bd-4422dbae8bec",
   "metadata": {},
   "source": [
    "# Cross Entropy"
   ]
  },
  {
   "cell_type": "code",
   "execution_count": 8,
   "id": "e887d814-891b-4652-ae7e-cddefc5f4405",
   "metadata": {},
   "outputs": [],
   "source": [
    "plot_config = PlotConfig(\n",
    "        show_plots=True,\n",
    "        selected_plots= ['neighborhood_dist', 'probabilities_star'],\n",
    ")"
   ]
  },
  {
   "cell_type": "code",
   "execution_count": 9,
   "id": "d57d8f3e-42dc-47af-aeaa-0b92f4659316",
   "metadata": {
    "scrolled": true
   },
   "outputs": [
    {
     "data": {
      "application/vnd.jupyter.widget-view+json": {
       "model_id": "173749d66b264bffae06163c7271a1bb",
       "version_major": 2,
       "version_minor": 0
      },
      "text/plain": [
       "Sanity Checking: |                                        | 0/? [00:00<?, ?it/s]"
      ]
     },
     "metadata": {},
     "output_type": "display_data"
    },
    {
     "name": "stderr",
     "output_type": "stream",
     "text": [
      "/anaconda/envs/py38_default/lib/python3.10/site-packages/pytorch_lightning/utilities/data.py:79: UserWarning:\n",
      "\n",
      "Trying to infer the `batch_size` from an ambiguous collection. The batch size we found is 5000. To avoid any miscalculations, use `self.log(..., batch_size=batch_size)`.\n",
      "\n",
      "/datadrive/shaden/ICon/visualization/ploty_callback.py:211: UserWarning:\n",
      "\n",
      "To copy construct from a tensor, it is recommended to use sourceTensor.clone().detach() or sourceTensor.clone().detach().requires_grad_(True), rather than torch.tensor(sourceTensor).\n",
      "\n"
     ]
    },
    {
     "data": {
      "application/vnd.jupyter.widget-view+json": {
       "model_id": "58362fe6131e4f539b692046ddd97d4e",
       "version_major": 2,
       "version_minor": 0
      },
      "text/plain": [
       "VBox(children=(HBox(children=(Play(value=0, description='Play', interval=1000, max=0), IntSlider(value=0, desc…"
      ]
     },
     "metadata": {},
     "output_type": "display_data"
    },
    {
     "data": {
      "application/vnd.jupyter.widget-view+json": {
       "model_id": "a6515bb4bf844cf9be46b511c6734fd3",
       "version_major": 2,
       "version_minor": 0
      },
      "text/plain": [
       "Training: |                                               | 0/? [00:00<?, ?it/s]"
      ]
     },
     "metadata": {},
     "output_type": "display_data"
    },
    {
     "data": {
      "application/vnd.jupyter.widget-view+json": {
       "model_id": "519da68fa22d4804b48add1ff882cbd0",
       "version_major": 2,
       "version_minor": 0
      },
      "text/plain": [
       "Validation: |                                             | 0/? [00:00<?, ?it/s]"
      ]
     },
     "metadata": {},
     "output_type": "display_data"
    }
   ],
   "source": [
    "cnn = SimpleCNN(output_dim=10, input_key= \"image\", output_key = \"embeddings\")\n",
    "onehot = OneHotEncoder(num_classes = 10, fixed= True, input_key = \"label\", output_key = \"class-one-hot\")\n",
    "classification_config = IConConfig(\n",
    "                       mapper = [cnn, onehot],\n",
    "                       supervisory_distribution = Label(pairwise= False, num_classes = 10, mask_diagonal = False, input_key = \"label\"),\n",
    "                       learned_distribution= Gaussian(sigma = 0.5, metric= 'dot', mask_diagonal = False, \n",
    "                                                      input_key = \"embeddings\", input_key2 = \"class-one-hot\"),\n",
    "                       accuracy_mode = 'regular',\n",
    "                       num_classes = num_classes,\n",
    "                       linear_probe = False,\n",
    "                       lr = 0.001\n",
    "                      )\n",
    "model = IConModel(classification_config)\n",
    "model = run_model(model, plot_config)"
   ]
  },
  {
   "cell_type": "code",
   "execution_count": 19,
   "id": "e82019a7-7fb5-4f5e-af4f-63fb84c529d0",
   "metadata": {},
   "outputs": [],
   "source": []
  },
  {
   "cell_type": "code",
   "execution_count": null,
   "id": "92875516-ebbf-4ec8-8b21-d2fa9012ec6e",
   "metadata": {},
   "outputs": [],
   "source": []
  }
 ],
 "metadata": {
  "kernelspec": {
   "display_name": "Python 3 (ipykernel)",
   "language": "python",
   "name": "python3"
  },
  "language_info": {
   "codemirror_mode": {
    "name": "ipython",
    "version": 3
   },
   "file_extension": ".py",
   "mimetype": "text/x-python",
   "name": "python",
   "nbconvert_exporter": "python",
   "pygments_lexer": "ipython3",
   "version": "3.10.8"
  }
 },
 "nbformat": 4,
 "nbformat_minor": 5
}
